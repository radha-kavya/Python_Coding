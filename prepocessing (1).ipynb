{
 "cells": [
  {
   "cell_type": "code",
   "execution_count": 45,
   "id": "09aa7f1d-06eb-4f59-8155-7bdca4cfe0b5",
   "metadata": {},
   "outputs": [
    {
     "name": "stdout",
     "output_type": "stream",
     "text": [
      "[[19 22]\n",
      " [43 50]]\n"
     ]
    }
   ],
   "source": [
    "# *NumPy*\n",
    "\n",
    "#*7. Matrix multiplication between two 2D arrays*\n",
    "\n",
    "import numpy as np\n",
    "\n",
    "A = np.array([[1, 2], [3, 4]])\n",
    "B = np.array([[5, 6], [7, 8]])\n",
    "\n",
    "result = np.dot(A, B)\n",
    "print(result)"
   ]
  },
  {
   "cell_type": "code",
   "execution_count": 46,
   "id": "13d8e2ad-b855-4978-adec-684651633e71",
   "metadata": {},
   "outputs": [
    {
     "name": "stdout",
     "output_type": "stream",
     "text": [
      "Dot: 32\n",
      "Cross: [-3  6 -3]\n"
     ]
    }
   ],
   "source": [
    "#8. Dot and Cross product of two vectors*\n",
    "\n",
    "v1 = np.array([1, 2, 3])\n",
    "v2 = np.array([4, 5, 6])\n",
    "\n",
    "dot_product = np.dot(v1, v2)\n",
    "cross_product = np.cross(v1, v2)\n",
    "\n",
    "print(\"Dot:\", dot_product)\n",
    "print(\"Cross:\", cross_product)"
   ]
  },
  {
   "cell_type": "code",
   "execution_count": 48,
   "id": "372f8585-b5f9-4cd6-bd2a-6e1b64108a4f",
   "metadata": {},
   "outputs": [
    {
     "name": "stdout",
     "output_type": "stream",
     "text": [
      "Array: [41 48 11  8  9 21 38 29  8 31 32 21  4 31 37  7  9 30 26 24]\n",
      "Unique: [ 4  7  8  9 11 21 24 26 29 30 31 32 37 38 41 48]\n"
     ]
    }
   ],
   "source": [
    "#9. Generate 20 random integers and find unique elements*\n",
    "\n",
    "arr = np.random.randint(0, 50, 20)\n",
    "unique_elements = np.unique(arr)\n",
    "print(\"Array:\", arr)\n",
    "print(\"Unique:\", unique_elements)\n"
   ]
  },
  {
   "cell_type": "code",
   "execution_count": 50,
   "id": "34b00b22-f5c7-4ac8-ad6c-c9257db94aee",
   "metadata": {},
   "outputs": [
    {
     "name": "stdout",
     "output_type": "stream",
     "text": [
      "[[-2.   1. ]\n",
      " [ 1.5 -0.5]]\n"
     ]
    }
   ],
   "source": [
    "#10. Inverse of a matrix using NumPy*\n",
    "matrix = np.array([[1, 2], [3, 4]])\n",
    "inverse = np.linalg.inv(matrix)\n",
    "print(inverse)\n"
   ]
  },
  {
   "cell_type": "code",
   "execution_count": 62,
   "id": "62bb4817-8c15-4942-a95d-ee618c13d5b4",
   "metadata": {},
   "outputs": [
    {
     "name": "stdout",
     "output_type": "stream",
     "text": [
      "   Age  Salt_Intake  Stress_Score       BP_History  Sleep_Duration   BMI  \\\n",
      "0   69          8.0             9           Normal             6.4  25.8   \n",
      "1   32         11.7            10           Normal             5.4  23.4   \n",
      "2   78          9.5             3           Normal             7.1  18.7   \n",
      "3   38         10.0            10     Hypertension             4.2  22.1   \n",
      "4   41          9.8             1  Prehypertension             5.8  16.2   \n",
      "5   20         10.8             3     Hypertension             5.2  21.9   \n",
      "6   39          8.9             0           Normal             7.8  27.6   \n",
      "7   70          5.9             1     Hypertension             7.2  25.8   \n",
      "8   19          9.3             7           Normal             4.7  36.5   \n",
      "9   47          7.2             5           Normal             6.2  24.3   \n",
      "\n",
      "      Medication Family_History Exercise_Level Smoking_Status Has_Hypertension  \n",
      "0            NaN            Yes            Low     Non-Smoker              Yes  \n",
      "1            NaN             No            Low     Non-Smoker               No  \n",
      "2            NaN             No       Moderate     Non-Smoker               No  \n",
      "3  ACE Inhibitor             No            Low     Non-Smoker              Yes  \n",
      "4          Other             No       Moderate     Non-Smoker               No  \n",
      "5   Beta Blocker            Yes           High     Non-Smoker              Yes  \n",
      "6   Beta Blocker            Yes           High     Non-Smoker               No  \n",
      "7            NaN             No       Moderate     Non-Smoker              Yes  \n",
      "8   Beta Blocker            Yes            Low         Smoker              Yes  \n",
      "9            NaN             No           High     Non-Smoker               No  \n"
     ]
    }
   ],
   "source": [
    "# *Pandas*\n",
    "\n",
    "#*11. Load CSV and show first 10 rows*\n",
    "\n",
    "import pandas as pd\n",
    "\n",
    "df = pd.read_csv(r\"C:\\Users\\radhakavya\\Downloads\\archive (3)\\hypertension_dataset.csv\")\n",
    "print(df.head(10))\n"
   ]
  },
  {
   "cell_type": "code",
   "execution_count": 64,
   "id": "9adfaf84-941d-4e29-85e9-7ac1041ee2e9",
   "metadata": {},
   "outputs": [
    {
     "name": "stdout",
     "output_type": "stream",
     "text": [
      "                 Salt_Intake                BMI         \n",
      "                        mean     sum       mean      sum\n",
      "Has_Hypertension                                        \n",
      "No                  8.294229  7904.4  25.334103  24143.4\n",
      "Yes                 8.750969  9031.0  26.644380  27497.0\n"
     ]
    }
   ],
   "source": [
    "grouped = df.groupby('Has_Hypertension')[['Salt_Intake', 'BMI']].agg(['mean', 'sum'])\n",
    "print(grouped)\n"
   ]
  },
  {
   "cell_type": "code",
   "execution_count": 67,
   "id": "9baaa86d-a7fb-418b-918c-1ccc1d4038e7",
   "metadata": {},
   "outputs": [
    {
     "name": "stdout",
     "output_type": "stream",
     "text": [
      "0        8.0\n",
      "1       11.7\n",
      "2        9.5\n",
      "3       10.0\n",
      "4        9.8\n",
      "        ... \n",
      "1980    10.2\n",
      "1981     8.9\n",
      "1982     5.9\n",
      "1983     7.4\n",
      "1984     7.3\n",
      "Name: Salt_Intake, Length: 1985, dtype: float64\n"
     ]
    }
   ],
   "source": [
    "df['Salt_Intake'] = df['Salt_Intake'].fillna(df['Salt_Intake'].mean())\n",
    "\n",
    "print (df['Salt_Intake']) "
   ]
  },
  {
   "cell_type": "code",
   "execution_count": 68,
   "id": "b3e3ca06-cd5c-4429-bd07-6d53b2ea6cb6",
   "metadata": {},
   "outputs": [
    {
     "name": "stdout",
     "output_type": "stream",
     "text": [
      "Inner Join:\n",
      "    ID     Name  Age\n",
      "0   2  lavanya   25\n",
      "1   3   murali   30\n"
     ]
    }
   ],
   "source": [
    "import pandas as pd\n",
    "\n",
    "# df1\n",
    "df1 = pd.DataFrame({\n",
    "    'ID': [1, 2, 3],\n",
    "    'Name': ['kavya', 'lavanya', 'murali']\n",
    "})\n",
    "\n",
    "# df2\n",
    "df2 = pd.DataFrame({\n",
    "    'ID': [2, 3, 4],\n",
    "    'Age': [25, 30, 35]\n",
    "})\n",
    "inner_merged = pd.merge(df1, df2, on='ID', how='inner')\n",
    "print(\"Inner Join:\\n\", inner_merged)\n"
   ]
  },
  {
   "cell_type": "code",
   "execution_count": 70,
   "id": "ff26b571-b1d4-4d10-95f5-a1a69a76f3f2",
   "metadata": {},
   "outputs": [
    {
     "name": "stdout",
     "output_type": "stream",
     "text": [
      "0       25.8\n",
      "1       23.4\n",
      "2       18.7\n",
      "3       22.1\n",
      "4       16.2\n",
      "        ... \n",
      "1980    25.0\n",
      "1981    16.9\n",
      "1982    18.9\n",
      "1983    29.2\n",
      "1984    18.6\n",
      "Name: BMI, Length: 1985, dtype: float64\n"
     ]
    }
   ],
   "source": [
    "numeric_columns = ['Age', 'Salt_Intake', 'Stress_Score', 'Sleep_Duration', 'BMI']\n",
    "for col in numeric_columns:\n",
    "    df[col] = pd.to_numeric(df[col], errors='coerce')\n",
    "print (df[col])"
   ]
  },
  {
   "cell_type": "code",
   "execution_count": 72,
   "id": "b4befc50-bdfe-49f9-ae43-5913b9d629de",
   "metadata": {},
   "outputs": [
    {
     "name": "stdout",
     "output_type": "stream",
     "text": [
      "      Age  Salt_Intake  Stress_Score       BP_History  Sleep_Duration   BMI  \\\n",
      "1      32         11.7            10           Normal             5.4  23.4   \n",
      "3      38         10.0            10     Hypertension             4.2  22.1   \n",
      "5      20         10.8             3     Hypertension             5.2  21.9   \n",
      "6      39          8.9             0           Normal             7.8  27.6   \n",
      "14     38          9.1             6  Prehypertension             7.7  29.0   \n",
      "...   ...          ...           ...              ...             ...   ...   \n",
      "1972   39          8.1             6  Prehypertension             4.3  35.2   \n",
      "1978   38          7.4             9  Prehypertension             6.2  23.6   \n",
      "1981   29          8.9             4     Hypertension             6.9  16.9   \n",
      "1983   35          7.4             8  Prehypertension             8.2  29.2   \n",
      "1984   38          7.3             0           Normal             8.3  18.6   \n",
      "\n",
      "         Medication Family_History Exercise_Level Smoking_Status  \\\n",
      "1               NaN             No            Low     Non-Smoker   \n",
      "3     ACE Inhibitor             No            Low     Non-Smoker   \n",
      "5      Beta Blocker            Yes           High     Non-Smoker   \n",
      "6      Beta Blocker            Yes           High     Non-Smoker   \n",
      "14              NaN             No            Low         Smoker   \n",
      "...             ...            ...            ...            ...   \n",
      "1972  ACE Inhibitor             No            Low     Non-Smoker   \n",
      "1978            NaN             No            Low     Non-Smoker   \n",
      "1981            NaN            Yes           High     Non-Smoker   \n",
      "1983            NaN            Yes       Moderate     Non-Smoker   \n",
      "1984            NaN            Yes            Low         Smoker   \n",
      "\n",
      "     Has_Hypertension  \n",
      "1                  No  \n",
      "3                 Yes  \n",
      "5                 Yes  \n",
      "6                  No  \n",
      "14                 No  \n",
      "...               ...  \n",
      "1972               No  \n",
      "1978               No  \n",
      "1981              Yes  \n",
      "1983               No  \n",
      "1984               No  \n",
      "\n",
      "[632 rows x 11 columns]\n"
     ]
    }
   ],
   "source": [
    "filtered_df = df[(df['Age'] >= 20) & (df['Age'] <= 40)]\n",
    "print(filtered_df)"
   ]
  },
  {
   "cell_type": "code",
   "execution_count": 73,
   "id": "e6c632d5-e670-4e03-9934-0ad67c78c1c7",
   "metadata": {},
   "outputs": [
    {
     "name": "stdout",
     "output_type": "stream",
     "text": [
      "                      mean         sum\n",
      "               Salt_Intake Salt_Intake\n",
      "Exercise_Level                        \n",
      "High              8.586445      3357.3\n",
      "Low               8.506090      7961.7\n",
      "Moderate          8.535562      5616.4\n"
     ]
    }
   ],
   "source": [
    "pivot = df.pivot_table(index='Exercise_Level', values='Salt_Intake', aggfunc=['mean', 'sum'])\n",
    "print(pivot)\n"
   ]
  },
  {
   "cell_type": "code",
   "execution_count": 77,
   "id": "fd6f6bbd-e3c9-4d3a-af44-908acdf0b9dc",
   "metadata": {},
   "outputs": [
    {
     "name": "stdout",
     "output_type": "stream",
     "text": [
      "0       YES\n",
      "1        NO\n",
      "2        NO\n",
      "3        NO\n",
      "4        NO\n",
      "       ... \n",
      "1980    YES\n",
      "1981    YES\n",
      "1982    YES\n",
      "1983    YES\n",
      "1984    YES\n",
      "Name: Family_History, Length: 1985, dtype: object\n"
     ]
    }
   ],
   "source": [
    "df['Family_History'] = df['Family_History'].apply(lambda x: x.upper() if isinstance(x, str) else x)\n",
    "print(df['Family_History']) "
   ]
  },
  {
   "cell_type": "code",
   "execution_count": 79,
   "id": "1e91de2a-cf6e-49ba-a3c1-da503ca93a2c",
   "metadata": {},
   "outputs": [
    {
     "name": "stdout",
     "output_type": "stream",
     "text": [
      "0         High\n",
      "1         High\n",
      "2          Low\n",
      "3         High\n",
      "4          Low\n",
      "         ...  \n",
      "1980       Low\n",
      "1981    Medium\n",
      "1982      High\n",
      "1983      High\n",
      "1984       Low\n",
      "Name: Stress_Level, Length: 1985, dtype: category\n",
      "Categories (3, object): ['Low' < 'Medium' < 'High']\n"
     ]
    }
   ],
   "source": [
    "df['Stress_Level'] = pd.cut(df['Stress_Score'], bins=[-1, 3, 7, 10], labels=['Low', 'Medium', 'High'])\n",
    "print(df['Stress_Level']) "
   ]
  },
  {
   "cell_type": "code",
   "execution_count": 84,
   "id": "3660cec0-b8ab-4757-be09-02e968ded396",
   "metadata": {},
   "outputs": [
    {
     "name": "stdout",
     "output_type": "stream",
     "text": [
      "0                 NaN\n",
      "1                 NaN\n",
      "2                 NaN\n",
      "3       ACE Inhibitor\n",
      "4       ACE Inhibitor\n",
      "            ...      \n",
      "1980         Diuretic\n",
      "1981              NaN\n",
      "1982    ACE Inhibitor\n",
      "1983              NaN\n",
      "1984              NaN\n",
      "Name: Medication, Length: 1985, dtype: object\n"
     ]
    }
   ],
   "source": [
    "df['Medication'] = df['Medication'].replace('Other', 'ACE Inhibitor')\n",
    "\n",
    "\n",
    "print(df['Medication'])"
   ]
  },
  {
   "cell_type": "code",
   "execution_count": 89,
   "id": "dbe19e6c-313b-403d-846f-f49a5cfce6c4",
   "metadata": {},
   "outputs": [
    {
     "name": "stdout",
     "output_type": "stream",
     "text": [
      "      Age  Salt_Intake  Stress_Score       BP_History  Sleep_Duration   BMI  \\\n",
      "0      69          8.0             9           Normal             6.4  25.8   \n",
      "1      32         11.7            10           Normal             5.4  23.4   \n",
      "2      78          9.5             3           Normal             7.1  18.7   \n",
      "3      38         10.0            10     Hypertension             4.2  22.1   \n",
      "4      41          9.8             1  Prehypertension             5.8  16.2   \n",
      "...   ...          ...           ...              ...             ...   ...   \n",
      "1980   56         10.2             0           Normal             6.5  25.0   \n",
      "1981   29          8.9             4     Hypertension             6.9  16.9   \n",
      "1982   64          5.9             9           Normal             5.6  18.9   \n",
      "1983   35          7.4             8  Prehypertension             8.2  29.2   \n",
      "1984   38          7.3             0           Normal             8.3  18.6   \n",
      "\n",
      "         Medication Family_History Exercise_Level Smoking_Status  \\\n",
      "0               NaN            YES            Low     Non-Smoker   \n",
      "1               NaN             NO            Low     Non-Smoker   \n",
      "2               NaN             NO       Moderate     Non-Smoker   \n",
      "3     ACE Inhibitor             NO            Low     Non-Smoker   \n",
      "4     ACE Inhibitor             NO       Moderate     Non-Smoker   \n",
      "...             ...            ...            ...            ...   \n",
      "1980       Diuretic            YES            Low     Non-Smoker   \n",
      "1981            NaN            YES           High     Non-Smoker   \n",
      "1982  ACE Inhibitor            YES       Moderate     Non-Smoker   \n",
      "1983            NaN            YES       Moderate     Non-Smoker   \n",
      "1984            NaN            YES            Low         Smoker   \n",
      "\n",
      "     Has_Hypertension Stress_Level  \n",
      "0                 Yes         High  \n",
      "1                  No         High  \n",
      "2                  No          Low  \n",
      "3                 Yes         High  \n",
      "4                  No          Low  \n",
      "...               ...          ...  \n",
      "1980              Yes          Low  \n",
      "1981              Yes       Medium  \n",
      "1982              Yes         High  \n",
      "1983               No         High  \n",
      "1984               No          Low  \n",
      "\n",
      "[1985 rows x 12 columns]\n"
     ]
    }
   ],
   "source": [
    "df['Salt_Intake'] = pd.to_numeric(df['Salt_Intake'], errors='coerce')\n",
    "df = df.dropna(subset=['Salt_Intake'])\n",
    "print(df)\n",
    "\n"
   ]
  },
  {
   "cell_type": "code",
   "execution_count": 88,
   "id": "e837eb01-b257-4b83-8db8-971ae3a5763c",
   "metadata": {},
   "outputs": [],
   "source": [
    "df.drop_duplicates(inplace=True)\n",
    "\n"
   ]
  },
  {
   "cell_type": "code",
   "execution_count": 90,
   "id": "54ba2e22-5875-49b3-bd38-719ddda290ab",
   "metadata": {},
   "outputs": [
    {
     "name": "stdout",
     "output_type": "stream",
     "text": [
      "      Age  Salt_Intake  Stress_Score       BP_History  Sleep_Duration   BMI  \\\n",
      "0      69          8.0             9           Normal             6.4  25.8   \n",
      "1      32         11.7            10           Normal             5.4  23.4   \n",
      "2      78          9.5             3           Normal             7.1  18.7   \n",
      "3      38         10.0            10     Hypertension             4.2  22.1   \n",
      "4      41          9.8             1  Prehypertension             5.8  16.2   \n",
      "...   ...          ...           ...              ...             ...   ...   \n",
      "1980   56         10.2             0           Normal             6.5  25.0   \n",
      "1981   29          8.9             4     Hypertension             6.9  16.9   \n",
      "1982   64          5.9             9           Normal             5.6  18.9   \n",
      "1983   35          7.4             8  Prehypertension             8.2  29.2   \n",
      "1984   38          7.3             0           Normal             8.3  18.6   \n",
      "\n",
      "         Medication Family_History Exercise_Level Smoking_Status  \\\n",
      "0               NaN            YES            Low     Non-Smoker   \n",
      "1               NaN             NO            Low     Non-Smoker   \n",
      "2               NaN             NO       Moderate     Non-Smoker   \n",
      "3     ACE Inhibitor             NO            Low     Non-Smoker   \n",
      "4     ACE Inhibitor             NO       Moderate     Non-Smoker   \n",
      "...             ...            ...            ...            ...   \n",
      "1980       Diuretic            YES            Low     Non-Smoker   \n",
      "1981            NaN            YES           High     Non-Smoker   \n",
      "1982  ACE Inhibitor            YES       Moderate     Non-Smoker   \n",
      "1983            NaN            YES       Moderate     Non-Smoker   \n",
      "1984            NaN            YES            Low         Smoker   \n",
      "\n",
      "     Has_Hypertension Stress_Level  \n",
      "0                 Yes         High  \n",
      "1                  No         High  \n",
      "2                  No          Low  \n",
      "3                 Yes         High  \n",
      "4                  No          Low  \n",
      "...               ...          ...  \n",
      "1980              Yes          Low  \n",
      "1981              Yes       Medium  \n",
      "1982              Yes         High  \n",
      "1983               No         High  \n",
      "1984               No          Low  \n",
      "\n",
      "[1985 rows x 12 columns]\n"
     ]
    }
   ],
   "source": [
    "print(df)"
   ]
  },
  {
   "cell_type": "code",
   "execution_count": null,
   "id": "f6a02832-4728-4690-bf76-2a884928c459",
   "metadata": {},
   "outputs": [],
   "source": []
  }
 ],
 "metadata": {
  "kernelspec": {
   "display_name": "Python 3 (ipykernel)",
   "language": "python",
   "name": "python3"
  },
  "language_info": {
   "codemirror_mode": {
    "name": "ipython",
    "version": 3
   },
   "file_extension": ".py",
   "mimetype": "text/x-python",
   "name": "python",
   "nbconvert_exporter": "python",
   "pygments_lexer": "ipython3",
   "version": "3.12.7"
  }
 },
 "nbformat": 4,
 "nbformat_minor": 5
}
