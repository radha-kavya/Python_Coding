{
 "cells": [
  {
   "cell_type": "code",
   "execution_count": 4,
   "id": "91598eee-2e12-4501-94ec-09ede85cbbb8",
   "metadata": {},
   "outputs": [
    {
     "name": "stdout",
     "output_type": "stream",
     "text": [
      "Array:\n",
      " [[6 4 7]\n",
      " [9 3 5]\n",
      " [0 6 1]]\n",
      "Sum: 41\n",
      "Mean: 4.555555555555555\n",
      "Std Dev: 2.7125679146074897\n"
     ]
    }
   ],
   "source": [
    "# Create a 3x3 array with random integers between 0 and 10\n",
    "import numpy as np\n",
    "arr = np.random.randint(0, 11, (3, 3))\n",
    "print(\"Array:\\n\", arr)\n",
    "print(\"Sum:\", np.sum(arr))\n",
    "print(\"Mean:\", np.mean(arr))\n",
    "print(\"Std Dev:\", np.std(arr))"
   ]
  },
  {
   "cell_type": "code",
   "execution_count": 5,
   "id": "322c8f32-579d-415e-8406-8f70371b4b03",
   "metadata": {},
   "outputs": [
    {
     "name": "stdout",
     "output_type": "stream",
     "text": [
      "Cumulative sum: [ 1  3  6 10 15 21 28 36 45 55]\n"
     ]
    }
   ],
   "source": [
    "# 2. 1D array of 10 elements and cumulative sum\n",
    "arr1d = np.arange(1, 11)\n",
    "print(\"Cumulative sum:\", np.cumsum(arr1d))"
   ]
  },
  {
   "cell_type": "code",
   "execution_count": 6,
   "id": "d7969627-88bb-49e8-8bec-8f41deb04d07",
   "metadata": {},
   "outputs": [
    {
     "name": "stdout",
     "output_type": "stream",
     "text": [
      "Add:\n",
      " [[ 4  3 15]\n",
      " [ 6  6 10]]\n",
      "Subtract:\n",
      " [[ 0  1 -3]\n",
      " [ 2 -4  6]]\n",
      "Multiply:\n",
      " [[ 4  2 54]\n",
      " [ 8  5 16]]\n",
      "Divide:\n",
      " [[1.         2.         0.66666667]\n",
      " [2.         0.2        4.        ]]\n"
     ]
    }
   ],
   "source": [
    "# 3. Two 2x3 arrays - element-wise operations\n",
    "a = np.random.randint(1, 10, (2, 3))\n",
    "b = np.random.randint(1, 10, (2, 3))\n",
    "print(\"Add:\\n\", a + b)\n",
    "print(\"Subtract:\\n\", a - b)\n",
    "print(\"Multiply:\\n\", a * b)\n",
    "print(\"Divide:\\n\", a / b)"
   ]
  },
  {
   "cell_type": "code",
   "execution_count": 7,
   "id": "712f6d03-b4d8-4e55-964f-56f88bd1889a",
   "metadata": {},
   "outputs": [
    {
     "name": "stdout",
     "output_type": "stream",
     "text": [
      "[[1. 0. 0. 0.]\n",
      " [0. 1. 0. 0.]\n",
      " [0. 0. 1. 0.]\n",
      " [0. 0. 0. 1.]]\n"
     ]
    }
   ],
   "source": [
    "# 4. 4x4 identity matrix\n",
    "print(np.eye(4))"
   ]
  },
  {
   "cell_type": "code",
   "execution_count": 8,
   "id": "ba1b2941-57a3-43db-a96a-b32f5e6b42d6",
   "metadata": {},
   "outputs": [
    {
     "name": "stdout",
     "output_type": "stream",
     "text": [
      "Divided by 5: [1. 2. 3. 4. 5.]\n"
     ]
    }
   ],
   "source": [
    "# 5. Broadcasting\n",
    "arr = np.array([5, 10, 15, 20, 25])\n",
    "print(\"Divided by 5:\", arr / 5)"
   ]
  },
  {
   "cell_type": "code",
   "execution_count": 9,
   "id": "e6cc15a0-b1f4-4912-9c18-1049eaf2feb7",
   "metadata": {},
   "outputs": [
    {
     "name": "stdout",
     "output_type": "stream",
     "text": [
      "[[ 0  1  2  3]\n",
      " [ 4  5  6  7]\n",
      " [ 8  9 10 11]]\n"
     ]
    }
   ],
   "source": [
    "# 6. Reshape 12 elements into 3x4 matrix\n",
    "a = np.arange(12)\n",
    "print(a.reshape(3, 4))"
   ]
  },
  {
   "cell_type": "code",
   "execution_count": 10,
   "id": "2543ba1a-c170-41f4-acdb-f1cf8bd233b1",
   "metadata": {},
   "outputs": [
    {
     "name": "stdout",
     "output_type": "stream",
     "text": [
      "[0 1 2 3 4 5 6 7 8]\n"
     ]
    }
   ],
   "source": [
    "# 7. Flatten 3x3 matrix\n",
    "b = np.arange(9).reshape(3, 3)\n",
    "print(b.flatten())"
   ]
  },
  {
   "cell_type": "code",
   "execution_count": 11,
   "id": "854edfc4-3b7f-478f-babe-28bb983d9881",
   "metadata": {},
   "outputs": [
    {
     "name": "stdout",
     "output_type": "stream",
     "text": [
      "Horizontal:\n",
      " [[0. 1. 2. 1. 1. 1.]\n",
      " [3. 4. 5. 1. 1. 1.]\n",
      " [6. 7. 8. 1. 1. 1.]]\n",
      "Vertical:\n",
      " [[0. 1. 2.]\n",
      " [3. 4. 5.]\n",
      " [6. 7. 8.]\n",
      " [1. 1. 1.]\n",
      " [1. 1. 1.]\n",
      " [1. 1. 1.]]\n"
     ]
    }
   ],
   "source": [
    "# 8. Stack 2 matrices\n",
    "m1 = np.arange(9).reshape(3, 3)\n",
    "m2 = np.ones((3, 3))\n",
    "print(\"Horizontal:\\n\", np.hstack((m1, m2)))\n",
    "print(\"Vertical:\\n\", np.vstack((m1, m2)))\n",
    "\n"
   ]
  },
  {
   "cell_type": "code",
   "execution_count": 12,
   "id": "68457ddf-89d7-4888-94b9-da38d3f8469c",
   "metadata": {},
   "outputs": [
    {
     "name": "stdout",
     "output_type": "stream",
     "text": [
      "[[1 4]\n",
      " [2 5]\n",
      " [3 6]]\n"
     ]
    }
   ],
   "source": [
    "# 9. Concatenate along new axis\n",
    "a = np.array([1, 2, 3])\n",
    "b = np.array([4, 5, 6])\n",
    "print(np.stack((a, b), axis=1))  # shape will be (3, 2)"
   ]
  },
  {
   "cell_type": "code",
   "execution_count": 13,
   "id": "f3eec371-3f18-473a-a332-48b92e2c3aeb",
   "metadata": {},
   "outputs": [
    {
     "name": "stdout",
     "output_type": "stream",
     "text": [
      "[[0 3]\n",
      " [1 4]\n",
      " [2 5]]\n"
     ]
    }
   ],
   "source": [
    "# 10. Transpose and reshape\n",
    "x = np.arange(6).reshape(2, 3)\n",
    "print(x.T.reshape(3, 2))"
   ]
  },
  {
   "cell_type": "code",
   "execution_count": 14,
   "id": "2654a901-d5bf-4fea-bcb8-7496bdd20050",
   "metadata": {},
   "outputs": [
    {
     "name": "stdout",
     "output_type": "stream",
     "text": [
      "[ 2  4  6  8 10]\n"
     ]
    }
   ],
   "source": [
    "# 11. 1D array extract from pos 2 to 10 with step 2\n",
    "arr = np.arange(15)\n",
    "print(arr[2:11:2])\n"
   ]
  },
  {
   "cell_type": "code",
   "execution_count": 15,
   "id": "1e581776-9fed-4905-be32-6d487012441d",
   "metadata": {},
   "outputs": [
    {
     "name": "stdout",
     "output_type": "stream",
     "text": [
      "[[ 6  7]\n",
      " [11 12]\n",
      " [16 17]]\n"
     ]
    }
   ],
   "source": [
    "# 12. Sub-matrix from 5x5\n",
    "mat = np.arange(25).reshape(5, 5)\n",
    "print(mat[1:4, 1:3])  # Rows 1 to 3, cols 1 to 2"
   ]
  },
  {
   "cell_type": "code",
   "execution_count": 16,
   "id": "f84c2543-9514-4e5a-8e0b-3c10db97a389",
   "metadata": {},
   "outputs": [
    {
     "name": "stdout",
     "output_type": "stream",
     "text": [
      "[ 0  1  2  3  4  5  6  7  8  9 10 10 10 10 10 10 10 10 10 10]\n"
     ]
    }
   ],
   "source": [
    "# 13. Replace values >10 with 10\n",
    "arr = np.arange(20)\n",
    "arr[arr > 10] = 10\n",
    "print(arr)"
   ]
  },
  {
   "cell_type": "code",
   "execution_count": 17,
   "id": "d123f3e5-2be3-45f5-a469-b52f37b091fe",
   "metadata": {},
   "outputs": [
    {
     "name": "stdout",
     "output_type": "stream",
     "text": [
      "[0 2 4 6]\n"
     ]
    }
   ],
   "source": [
    "# 14. Fancy indexing\n",
    "arr = np.arange(10)\n",
    "print(arr[[0, 2, 4, 6]])\n"
   ]
  },
  {
   "cell_type": "code",
   "execution_count": 18,
   "id": "e7066f7c-0f23-4102-a5f5-fc1a4374f0ef",
   "metadata": {},
   "outputs": [
    {
     "name": "stdout",
     "output_type": "stream",
     "text": [
      "[9 8 7 6 5 4 3 2 1 0]\n"
     ]
    }
   ],
   "source": [
    "# 15. Reverse using slicing\n",
    "arr = np.arange(10)\n",
    "print(arr[::-1])"
   ]
  },
  {
   "cell_type": "code",
   "execution_count": 19,
   "id": "0040b5bc-3e9c-4513-8d78-65822308527e",
   "metadata": {},
   "outputs": [
    {
     "name": "stdout",
     "output_type": "stream",
     "text": [
      "[[2. 3. 4.]\n",
      " [2. 3. 4.]\n",
      " [2. 3. 4.]]\n"
     ]
    }
   ],
   "source": [
    "# 16. Add 1x3 to 3x3\n",
    "a = np.ones((3, 3))\n",
    "b = np.array([1, 2, 3])\n",
    "print(a + b)\n"
   ]
  },
  {
   "cell_type": "code",
   "execution_count": 20,
   "id": "b7406448-c835-47f6-88f2-2a2132c39959",
   "metadata": {},
   "outputs": [
    {
     "name": "stdout",
     "output_type": "stream",
     "text": [
      "[ 3  6  9 12 15]\n"
     ]
    }
   ],
   "source": [
    "# 17. Multiply 1D array by scalar\n",
    "arr = np.array([1, 2, 3, 4, 5])\n",
    "print(arr * 3)\n",
    "\n"
   ]
  },
  {
   "cell_type": "code",
   "execution_count": 21,
   "id": "60827837-f43b-453a-831a-50845af05e16",
   "metadata": {},
   "outputs": [
    {
     "name": "stdout",
     "output_type": "stream",
     "text": [
      "[[ 4  5  6]\n",
      " [ 6  7  8]\n",
      " [ 8  9 10]]\n"
     ]
    }
   ],
   "source": [
    "# 18. Subtract column vector from 3x3 matrix\n",
    "matrix = np.array([[5, 6, 7], [8, 9, 10], [11, 12, 13]])\n",
    "col = np.array([[1], [2], [3]])\n",
    "print(matrix - col)"
   ]
  },
  {
   "cell_type": "code",
   "execution_count": 27,
   "id": "a241f32c-7879-49f3-82f1-7f4ff0032a91",
   "metadata": {},
   "outputs": [
    {
     "name": "stdout",
     "output_type": "stream",
     "text": [
      "Original array:\n",
      " [[[ 1  2  3]\n",
      "  [ 4  5  6]]\n",
      "\n",
      " [[ 7  8  9]\n",
      "  [10 11 12]]]\n",
      "\n",
      "After adding scalar:\n",
      " [[[ 6  7  8]\n",
      "  [ 9 10 11]]\n",
      "\n",
      " [[12 13 14]\n",
      "  [15 16 17]]]\n"
     ]
    }
   ],
   "source": [
    "#19.Add a scalar to a 3D array and demonstrate how broadcasting works across all dimensions.\n",
    "array_3d = np.array([[[1, 2, 3],\n",
    "                      [4, 5, 6]],\n",
    "                     \n",
    "                     [[7, 8, 9],\n",
    "                      [10, 11, 12]]])\n",
    "\n",
    "scalar = 5\n",
    "\n",
    "result = array_3d + scalar\n",
    "\n",
    "print(\"Original array:\\n\", array_3d)\n",
    "print(\"\\nAfter adding scalar:\\n\", result)"
   ]
  },
  {
   "cell_type": "code",
   "execution_count": 31,
   "id": "699be172-7ffc-4774-876c-99c8b9360c66",
   "metadata": {},
   "outputs": [
    {
     "name": "stdout",
     "output_type": "stream",
     "text": [
      "Array A (4,1):\n",
      " [[1]\n",
      " [2]\n",
      " [3]\n",
      " [4]]\n",
      "\n",
      "Array B (1,5):\n",
      " [[10 20 30 40 50]]\n",
      "\n",
      "Result of A + B:\n",
      " [[11 21 31 41 51]\n",
      " [12 22 32 42 52]\n",
      " [13 23 33 43 53]\n",
      " [14 24 34 44 54]]\n"
     ]
    }
   ],
   "source": [
    "#20. Create two arrays of shapes (4, 1) and (1, 5) and add them using broadcasting.\n",
    "A = np.array([[1],\n",
    "              [2],\n",
    "              [3],\n",
    "              [4]])\n",
    "\n",
    "B = np.array([[10, 20, 30, 40, 50]])\n",
    "\n",
    "result = A + B\n",
    "\n",
    "print(\"Array A (4,1):\\n\", A)\n",
    "print(\"\\nArray B (1,5):\\n\", B)\n",
    "print(\"\\nResult of A + B:\\n\", result)\n"
   ]
  },
  {
   "cell_type": "code",
   "execution_count": 33,
   "id": "7228fd2e-69c4-4f55-94aa-6872eed06e08",
   "metadata": {},
   "outputs": [
    {
     "name": "stdout",
     "output_type": "stream",
     "text": [
      "Original array:\n",
      " [[ 1  4  9]\n",
      " [16 25 36]]\n",
      "\n",
      "Square root array:\n",
      " [[1. 2. 3.]\n",
      " [4. 5. 6.]]\n"
     ]
    }
   ],
   "source": [
    "#21. Compute the square root of each element in a 2D array using vectorized operations.\n",
    "\n",
    "array_2d = np.array([[1, 4, 9],\n",
    "                     [16, 25, 36]])\n",
    "\n",
    "sqrt_array = np.sqrt(array_2d)\n",
    "\n",
    "print(\"Original array:\\n\", array_2d)\n",
    "print(\"\\nSquare root array:\\n\", sqrt_array)"
   ]
  },
  {
   "cell_type": "code",
   "execution_count": 34,
   "id": "18d1055f-ceea-429e-930a-9b74d78e0837",
   "metadata": {},
   "outputs": [
    {
     "name": "stdout",
     "output_type": "stream",
     "text": [
      "Dot product: 550\n"
     ]
    }
   ],
   "source": [
    "#22.Calculate the dot product of two 1D arrays of size 5\n",
    "# Two 1D arrays of size 5\n",
    "a = np.array([1, 2, 3, 4, 5])\n",
    "b = np.array([10, 20, 30, 40, 50])\n",
    "\n",
    "# Calculate dot product\n",
    "dot_product = np.dot(a, b)\n",
    "\n",
    "print(\"Dot product:\", dot_product)"
   ]
  },
  {
   "cell_type": "code",
   "execution_count": 35,
   "id": "6757f999-6094-411c-ae5d-3958d1329884",
   "metadata": {},
   "outputs": [
    {
     "name": "stdout",
     "output_type": "stream",
     "text": [
      "Array a: [ 5 10 15 20]\n",
      "Array b: [ 3 12 15 18]\n",
      "a > b: [ True False False  True]\n"
     ]
    }
   ],
   "source": [
    "#23. Perform element-wise comparison of two 1D arrays and return an array of boolean values indicating where the first array has larger elements\n",
    "\n",
    "a = np.array([5, 10, 15, 20])\n",
    "b = np.array([3, 12, 15, 18])\n",
    "\n",
    "comparison = a > b\n",
    "\n",
    "print(\"Array a:\", a)\n",
    "print(\"Array b:\", b)\n",
    "print(\"a > b:\", comparison)\n"
   ]
  },
  {
   "cell_type": "code",
   "execution_count": 36,
   "id": "da8fca34-6697-4f62-a01f-cef5b9258ed8",
   "metadata": {},
   "outputs": [
    {
     "name": "stdout",
     "output_type": "stream",
     "text": [
      "Original array:\n",
      " [[1 2 3]\n",
      " [4 5 6]]\n",
      "\n",
      "Doubled array:\n",
      " [[ 2  4  6]\n",
      " [ 8 10 12]]\n"
     ]
    }
   ],
   "source": [
    "#24.Create a 2D array and apply a vectorized operation to double the value of each element.\n",
    "\n",
    "# Create a 2D array\n",
    "array_2d = np.array([[1, 2, 3],\n",
    "                     [4, 5, 6]])\n",
    "\n",
    "# Double each element using vectorized operation\n",
    "doubled_array = array_2d * 2\n",
    "\n",
    "print(\"Original array:\\n\", array_2d)\n",
    "print(\"\\nDoubled array:\\n\", doubled_array)"
   ]
  },
  {
   "cell_type": "code",
   "execution_count": 37,
   "id": "c75e191e-7214-4a6e-bc6e-d82f7c9f4d76",
   "metadata": {},
   "outputs": [
    {
     "name": "stdout",
     "output_type": "stream",
     "text": [
      "Random array:\n",
      " [82 56 71 65 56  9 58 98 79 63  2 81 77 83 42 13 88 66 67 53 72 85 96 10\n",
      " 12 31 43 46  4 76 56 70 22 76 24 94 36 89 21 41 66  3 94 56 60 25 54 55\n",
      " 97  7 51 94 87  1 42 88 99 22  1 14 26 45 94 34 29 57 18 54  9 11 46  8\n",
      " 66 97 92 57 33 55 35 89 29 35 39 23 15 48 84 51 96 51 72 60 58 93 75 78\n",
      " 42 53 23 61]\n",
      "\n",
      "Even numbers:\n",
      " [82 56 56 58 98  2 42 88 66 72 96 10 12 46  4 76 56 70 22 76 24 94 36 66\n",
      " 94 56 60 54 94 42 88 22 14 26 94 34 18 54 46  8 66 92 48 84 96 72 60 58\n",
      " 78 42]\n",
      "\n",
      "Sum of even numbers: 2808\n"
     ]
    }
   ],
   "source": [
    "#25. Create a 1D array of 100 random integers and compute the sum of all even numbers using vectorized operations\n",
    "# Create a 1D array of 100 random integers between 1 and 100\n",
    "random_array = np.random.randint(1, 101, size=100)\n",
    "\n",
    "even_numbers = random_array[random_array % 2 == 0]\n",
    "\n",
    "sum_even = np.sum(even_numbers)\n",
    "\n",
    "print(\"Random array:\\n\", random_array)\n",
    "print(\"\\nEven numbers:\\n\", even_numbers)\n",
    "print(\"\\nSum of even numbers:\", sum_even)"
   ]
  },
  {
   "cell_type": "code",
   "execution_count": 38,
   "id": "d902c761-b1b3-4626-a861-346f78cee6c1",
   "metadata": {},
   "outputs": [
    {
     "name": "stdout",
     "output_type": "stream",
     "text": [
      "Matrix:\n",
      " [[1 2 3]\n",
      " [0 1 4]\n",
      " [5 6 0]]\n",
      "\n",
      "Determinant: 0.9999999999999987\n"
     ]
    }
   ],
   "source": [
    "#26. Create a 3x3 matrix and find its determinant.\n",
    "\n",
    "matrix = np.array([[1, 2, 3],\n",
    "                   [0, 1, 4],\n",
    "                   [5, 6, 0]])\n",
    "\n",
    "determinant = np.linalg.det(matrix)\n",
    "\n",
    "print(\"Matrix:\\n\", matrix)\n",
    "print(\"\\nDeterminant:\", determinant)"
   ]
  },
  {
   "cell_type": "code",
   "execution_count": 39,
   "id": "2d97b2e4-ed7f-404b-a91e-822f6af589b3",
   "metadata": {},
   "outputs": [
    {
     "name": "stdout",
     "output_type": "stream",
     "text": [
      "Original matrix:\n",
      " [[4 7]\n",
      " [2 6]]\n",
      "\n",
      "Inverse matrix:\n",
      " [[ 0.6 -0.7]\n",
      " [-0.2  0.4]]\n",
      "\n",
      "Product (should be identity):\n",
      " [[ 1.00000000e+00  0.00000000e+00]\n",
      " [-2.22044605e-16  1.00000000e+00]]\n"
     ]
    }
   ],
   "source": [
    "#27. Given a 2x2 matrix, compute its inverse and verify by multiplying with the original matrix to obtain the identity matrix.\n",
    "\n",
    "matrix = np.array([[4, 7],\n",
    "                   [2, 6]])\n",
    "\n",
    "inverse_matrix = np.linalg.inv(matrix)\n",
    "\n",
    "identity_matrix = np.dot(matrix, inverse_matrix)\n",
    "\n",
    "print(\"Original matrix:\\n\", matrix)\n",
    "print(\"\\nInverse matrix:\\n\", inverse_matrix)\n",
    "print(\"\\nProduct (should be identity):\\n\", identity_matrix)"
   ]
  },
  {
   "cell_type": "code",
   "execution_count": 40,
   "id": "ff9d8384-611f-4f79-b098-75039f536580",
   "metadata": {},
   "outputs": [
    {
     "name": "stdout",
     "output_type": "stream",
     "text": [
      "Matrix:\n",
      " [[4 2]\n",
      " [1 3]]\n",
      "\n",
      "Eigenvalues:\n",
      " [5. 2.]\n",
      "\n",
      "Eigenvectors:\n",
      " [[ 0.89442719 -0.70710678]\n",
      " [ 0.4472136   0.70710678]]\n"
     ]
    }
   ],
   "source": [
    "#28. Calculate the eigenvalues and eigenvectors of a 2x2 matrix\n",
    "matrix = np.array([[4, 2],\n",
    "                   [1, 3]])\n",
    "\n",
    "eigenvalues, eigenvectors = np.linalg.eig(matrix)\n",
    "\n",
    "print(\"Matrix:\\n\", matrix)\n",
    "print(\"\\nEigenvalues:\\n\", eigenvalues)\n",
    "print(\"\\nEigenvectors:\\n\", eigenvectors)"
   ]
  },
  {
   "cell_type": "code",
   "execution_count": 41,
   "id": "53d874a0-8134-4c01-b973-a9aa9b9862e7",
   "metadata": {},
   "outputs": [
    {
     "name": "stdout",
     "output_type": "stream",
     "text": [
      "System has no unique solution (singular matrix).\n"
     ]
    }
   ],
   "source": [
    "#29.Calculate the eigenvalues and eigenvectors of a 2x2 matrix\n",
    "\n",
    "A = np.array([[2, 3],\n",
    "              [4, 6]])\n",
    "\n",
    "b = np.array([5, 10])\n",
    "\n",
    "try:\n",
    "    solution = np.linalg.solve(A, b)\n",
    "    print(\"Solution:\", solution)\n",
    "except np.linalg.LinAlgError:\n",
    "    print(\"System has no unique solution (singular matrix).\")"
   ]
  },
  {
   "cell_type": "code",
   "execution_count": 42,
   "id": "a210dca8-f35b-422d-a022-4f59972d9cb3",
   "metadata": {},
   "outputs": [
    {
     "name": "stdout",
     "output_type": "stream",
     "text": [
      "Original matrix:\n",
      " [[1 2 3]\n",
      " [4 5 6]\n",
      " [7 8 9]]\n",
      "\n",
      "Reconstructed matrix:\n",
      " [[1. 2. 3.]\n",
      " [4. 5. 6.]\n",
      " [7. 8. 9.]]\n"
     ]
    }
   ],
   "source": [
    "#30.Perform Singular Value Decomposition (SVD) on a 3x3 matrix and reconstruct the original matrix\n",
    "matrix = np.array([[1, 2, 3],\n",
    "                   [4, 5, 6],\n",
    "                   [7, 8, 9]])\n",
    "\n",
    "U, S, VT = np.linalg.svd(matrix)\n",
    "\n",
    "S_matrix = np.zeros_like(matrix, dtype=float)\n",
    "np.fill_diagonal(S_matrix, S)\n",
    "\n",
    "reconstructed = U @ S_matrix @ VT\n",
    "\n",
    "print(\"Original matrix:\\n\", matrix)\n",
    "print(\"\\nReconstructed matrix:\\n\", reconstructed)"
   ]
  }
 ],
 "metadata": {
  "kernelspec": {
   "display_name": "Python 3 (ipykernel)",
   "language": "python",
   "name": "python3"
  },
  "language_info": {
   "codemirror_mode": {
    "name": "ipython",
    "version": 3
   },
   "file_extension": ".py",
   "mimetype": "text/x-python",
   "name": "python",
   "nbconvert_exporter": "python",
   "pygments_lexer": "ipython3",
   "version": "3.12.7"
  }
 },
 "nbformat": 4,
 "nbformat_minor": 5
}
