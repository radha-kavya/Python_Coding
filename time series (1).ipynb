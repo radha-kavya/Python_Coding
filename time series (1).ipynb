{
 "cells": [
  {
   "cell_type": "code",
   "execution_count": 27,
   "id": "0e076486-f4ed-4f52-aec7-09a72403b9a7",
   "metadata": {},
   "outputs": [
    {
     "name": "stdout",
     "output_type": "stream",
     "text": [
      "Reshaped Array:\n",
      " [[ 1  2  3  4]\n",
      " [ 5  6  7  8]\n",
      " [ 9 10 11 12]]\n",
      "Mean of each row: [ 2.5  6.5 10.5]\n"
     ]
    }
   ],
   "source": [
    "# *11. Data Reshaping and Analysis\n",
    "\n",
    "#1. *Use NumPy's reshape to change the shape of an array extracted from a DataFrame and analyze the reshaped data.\n",
    "\n",
    "   \n",
    "import numpy as np\n",
    "import pandas as pd\n",
    "\n",
    "df = pd.DataFrame({'A': range(1, 13)})\n",
    "array = df['A'].values.reshape(3, 4)\n",
    "print(\"Reshaped Array:\\n\", array)\n",
    "print(\"Mean of each row:\", np.mean(array, axis=1))\n"
   ]
  },
  {
   "cell_type": "code",
   "execution_count": 29,
   "id": "520b59d8-afee-4253-83f1-21cb6f6950b9",
   "metadata": {},
   "outputs": [
    {
     "name": "stdout",
     "output_type": "stream",
     "text": [
      "Combined DF:\n",
      "    A  B\n",
      "0  1  3\n",
      "1  2  4\n",
      "0  5  7\n",
      "1  6  8\n",
      "Sum of all elements: 36\n"
     ]
    }
   ],
   "source": [
    "#2. *Stack two DataFrames vertically and use NumPy to analyze.*\n",
    "\n",
    "\n",
    "df1 = pd.DataFrame({'A': [1, 2], 'B': [3, 4]})\n",
    "df2 = pd.DataFrame({'A': [5, 6], 'B': [7, 8]})\n",
    "combined_df = pd.concat([df1, df2], axis=0)\n",
    "print(\"Combined DF:\\n\", combined_df)\n",
    "\n",
    "array = combined_df.values\n",
    "print(\"Sum of all elements:\", np.sum(array))"
   ]
  },
  {
   "cell_type": "code",
   "execution_count": 30,
   "id": "38281573-a1bb-451e-b416-d46b276c70da",
   "metadata": {},
   "outputs": [
    {
     "name": "stdout",
     "output_type": "stream",
     "text": [
      "       Col1  Col2  Col3  Col4\n",
      "Block                        \n",
      "0        18    16    13    12\n",
      "1        18    14     6    17\n"
     ]
    }
   ],
   "source": [
    "#3. *Create a 3D array using NumPy and convert it into a MultiIndex DataFrame, then perform a group operation.*\n",
    "\n",
    "data = np.random.randint(1, 10, size=(2, 3, 4))\n",
    "df = pd.DataFrame(data.reshape(-1, 4),\n",
    "                 index=pd.MultiIndex.from_product([[0, 1], [0, 1, 2]], names=['Block', 'Row']),\n",
    "                 columns=['Col1', 'Col2', 'Col3', 'Col4'])\n",
    "print(df.groupby(level='Block').sum())\n"
   ]
  },
  {
   "cell_type": "code",
   "execution_count": 31,
   "id": "f6a5dfdc-ddb4-4bab-af23-46117608356d",
   "metadata": {},
   "outputs": [
    {
     "name": "stdout",
     "output_type": "stream",
     "text": [
      "Cumulative Sum:\n",
      " date\n",
      "2023-01-01     10\n",
      "2023-01-02     30\n",
      "2023-01-03     45\n",
      "2023-01-04     70\n",
      "2023-01-05    100\n",
      "Name: value, dtype: int64\n"
     ]
    }
   ],
   "source": [
    "# *12. Time Series Analysis*\n",
    "\n",
    "#1. *Convert a column in a DataFrame to a time series and perform an operation.*\n",
    "\n",
    "\n",
    "df = pd.DataFrame({'date': pd.date_range('2023-01-01', periods=5),\n",
    "                  'value': [10, 20, 15, 25, 30]})\n",
    "df.set_index('date', inplace=True)\n",
    "print(\"Cumulative Sum:\\n\", df['value'].cumsum())\n"
   ]
  },
  {
   "cell_type": "code",
   "execution_count": 33,
   "id": "ea8a02dc-4a50-4e64-9a4f-9b56abac5d2c",
   "metadata": {},
   "outputs": [
    {
     "name": "stdout",
     "output_type": "stream",
     "text": [
      "            value  moving_avg\n",
      "date                         \n",
      "2023-01-01     10         NaN\n",
      "2023-01-02     20         NaN\n",
      "2023-01-03     15   15.000000\n",
      "2023-01-04     25   20.000000\n",
      "2023-01-05     30   23.333333\n"
     ]
    }
   ],
   "source": [
    "#2. *Calculate the moving average.*\n",
    "\n",
    "\n",
    "df['moving_avg'] = df['value'].rolling(window=3).mean()\n",
    "print(df)\n"
   ]
  },
  {
   "cell_type": "code",
   "execution_count": 34,
   "id": "0171722f-2f0e-440e-b83c-bb271792f183",
   "metadata": {},
   "outputs": [
    {
     "name": "stdout",
     "output_type": "stream",
     "text": [
      "            timestamp       time_diff\n",
      "0 2024-01-01 10:00:00             NaT\n",
      "1 2024-01-01 12:30:00 0 days 02:30:00\n"
     ]
    }
   ],
   "source": [
    "#3. *Use pd.to_datetime() and calculate time difference.*\n",
    "\n",
    "\n",
    "df = pd.DataFrame({'timestamp': ['2024-01-01 10:00', '2024-01-01 12:30']})\n",
    "df['timestamp'] = pd.to_datetime(df['timestamp'])\n",
    "df['time_diff'] = df['timestamp'].diff()\n",
    "print(df)\n",
    "   "
   ]
  },
  {
   "cell_type": "code",
   "execution_count": 36,
   "id": "1c00c39f-9af4-48b1-bdd1-6370dbfea568",
   "metadata": {},
   "outputs": [
    {
     "name": "stdout",
     "output_type": "stream",
     "text": [
      "Normalized Data: [0.26086957 0.95652174 0.30434783 1.         0.56521739 0.15217391\n",
      " 0.60869565 0.         0.         0.        ]\n"
     ]
    }
   ],
   "source": [
    "# *NumPy Questions*\n",
    "\n",
    "#1. *Create a NumPy array of random numbers and normalize using min-max scaling.*\n",
    "\n",
    "data = np.random.randint(1, 100, 10)\n",
    "normalized = (data - np.min(data)) / (np.max(data) - np.min(data))\n",
    "print(\"Normalized Data:\", normalized)\n"
   ]
  },
  {
   "cell_type": "code",
   "execution_count": 37,
   "id": "07b241f0-aaab-4142-9bec-8ada4bda30a2",
   "metadata": {},
   "outputs": [
    {
     "name": "stdout",
     "output_type": "stream",
     "text": [
      "Modified Matrix:\n",
      " [[1 0 1 2 4]\n",
      " [0 2 0 1 2]\n",
      " [1 4 1 1 1]\n",
      " [1 4 4 1 2]\n",
      " [4 4 0 4 0]]\n"
     ]
    }
   ],
   "source": [
    "#2. *Generate a 5x5 matrix and replace all occurrences of a value.*\n",
    "\n",
    " \n",
    "matrix = np.random.randint(1, 5, size=(5, 5))\n",
    "matrix[matrix == 3] = 0\n",
    "print(\"Modified Matrix:\\n\", matrix)\n"
   ]
  },
  {
   "cell_type": "code",
   "execution_count": 38,
   "id": "f0019487-57d9-4198-945e-47fa6be401d0",
   "metadata": {},
   "outputs": [
    {
     "name": "stdout",
     "output_type": "stream",
     "text": [
      "Addition: [5 7 9]\n",
      "Subtraction: [-3 -3 -3]\n",
      "Multiplication: [ 4 10 18]\n",
      "Division: [0.25 0.4  0.5 ]\n"
     ]
    }
   ],
   "source": [
    "#3. *Element-wise operations on two arrays.*\n",
    "\n",
    "\n",
    "a = np.array([1, 2, 3])\n",
    "b = np.array([4, 5, 6])\n",
    "print(\"Addition:\", a + b)\n",
    "print(\"Subtraction:\", a - b)\n",
    "print(\"Multiplication:\", a * b)\n",
    "print(\"Division:\", a / b)\n"
   ]
  },
  {
   "cell_type": "code",
   "execution_count": 41,
   "id": "78283b7b-9bf8-4a3a-92c7-67cda1691443",
   "metadata": {},
   "outputs": [
    {
     "name": "stdout",
     "output_type": "stream",
     "text": [
      "x and y values: [1.28571429 0.78571429]\n"
     ]
    }
   ],
   "source": [
    "#4. *Solve a system of equations using NumPy.*\n",
    "\n",
    "#   $$\n",
    " #  3x + 4y = 7\\\\\n",
    "  # 5x + 2y = 8\n",
    "   #$$\n",
    "\n",
    "\n",
    "A = np.array([[3, 4], [5, 2]])\n",
    "b = np.array([7, 8])\n",
    "solution = np.linalg.solve(A, b)\n",
    "print(\"x and y values:\", solution)"
   ]
  },
  {
   "cell_type": "code",
   "execution_count": 42,
   "id": "314bf55f-db04-4211-af8d-800519a12caa",
   "metadata": {},
   "outputs": [
    {
     "name": "stdout",
     "output_type": "stream",
     "text": [
      "[[2 2 2]\n",
      " [5 5 5]\n",
      " [8 8 8]]\n"
     ]
    }
   ],
   "source": [
    "#5. *Broadcasting with 3x3 matrix and 1D array.*\n",
    "\n",
    "matrix = np.array([[1,2,3], [4,5,6], [7,8,9]])\n",
    "array = np.array([1, 0, -1])\n",
    "result = matrix + array\n",
    "print(result)"
   ]
  },
  {
   "cell_type": "code",
   "execution_count": 43,
   "id": "5bcfd774-0d86-40d7-8655-ba17e934c49e",
   "metadata": {},
   "outputs": [
    {
     "name": "stdout",
     "output_type": "stream",
     "text": [
      "[[1. 0. 0.]\n",
      " [0. 1. 0.]\n",
      " [0. 0. 1.]]\n"
     ]
    }
   ],
   "source": [
    "#6. *Create a 3x3 identity matrix.*\n",
    "\n",
    "  \n",
    "identity = np.eye(3)\n",
    "print(identity)\n"
   ]
  }
 ],
 "metadata": {
  "kernelspec": {
   "display_name": "Python 3 (ipykernel)",
   "language": "python",
   "name": "python3"
  },
  "language_info": {
   "codemirror_mode": {
    "name": "ipython",
    "version": 3
   },
   "file_extension": ".py",
   "mimetype": "text/x-python",
   "name": "python",
   "nbconvert_exporter": "python",
   "pygments_lexer": "ipython3",
   "version": "3.12.7"
  }
 },
 "nbformat": 4,
 "nbformat_minor": 5
}
