{
 "cells": [
  {
   "cell_type": "code",
   "execution_count": 106,
   "id": "f9d39922-6f66-4383-8483-2b53fca4b6bd",
   "metadata": {},
   "outputs": [
    {
     "name": "stdout",
     "output_type": "stream",
     "text": [
      "[155 175 165]\n"
     ]
    }
   ],
   "source": [
    "#5. Array Operations and Manipulation\n",
    "# Q1. Create NumPy arrays from DataFrame columns and perform element-wise operations.\n",
    "\n",
    "import pandas as pd\n",
    "import numpy as np\n",
    "\n",
    "df = pd.DataFrame({\n",
    "    'math': [80, 90, 70],\n",
    "    'science': [75, 85, 95]\n",
    "})\n",
    "\n",
    "math_array = np.array(df['math'])\n",
    "science_array = np.array(df['science'])\n",
    "\n",
    "total_score = math_array + science_array\n",
    "print(total_score)"
   ]
  },
  {
   "cell_type": "code",
   "execution_count": 107,
   "id": "f9dfeaea-f343-454a-87e7-9224e663224e",
   "metadata": {},
   "outputs": [
    {
     "name": "stdout",
     "output_type": "stream",
     "text": [
      "   Score1  Score2\n",
      "0     100     200\n",
      "1     300     400\n",
      "2     500     600\n"
     ]
    }
   ],
   "source": [
    "\n",
    "# Q2. Reshape a NumPy array and assign back to DataFrame column.\n",
    "\n",
    "\n",
    "arr = np.array([100, 200, 300, 400, 500, 600])\n",
    "reshaped_arr = arr.reshape(3, 2)\n",
    "\n",
    "df = pd.DataFrame(reshaped_arr, columns=['Score1', 'Score2'])\n",
    "print(df)"
   ]
  },
  {
   "cell_type": "code",
   "execution_count": 109,
   "id": "5ad1c67b-0113-48bd-8830-a55076f9ac32",
   "metadata": {},
   "outputs": [
    {
     "name": "stdout",
     "output_type": "stream",
     "text": [
      "  student  marks\n",
      "1       B     88\n",
      "2       C     77\n"
     ]
    }
   ],
   "source": [
    "# Q3. Use NumPy to filter rows where a column exceeds a threshold.\n",
    "\n",
    "df = pd.DataFrame({\n",
    "    'student': ['A', 'B', 'C', 'D'],\n",
    "    'marks': [45, 88, 77, 62]\n",
    "})\n",
    "\n",
    "mask = np.array(df['marks']) > 70\n",
    "filtered_df = df[mask]\n",
    "print(filtered_df)"
   ]
  },
  {
   "cell_type": "code",
   "execution_count": 110,
   "id": "42a08633-15ff-43f5-945c-51e548f75e11",
   "metadata": {},
   "outputs": [
    {
     "name": "stdout",
     "output_type": "stream",
     "text": [
      "   score  score_with_bonus\n",
      "0     10                15\n",
      "1     20                25\n",
      "2     30                35\n",
      "3     40                45\n"
     ]
    }
   ],
   "source": [
    "#6. Broadcasting and Vectorized Operations\n",
    "\n",
    "# Q4. Broadcast a NumPy array across a column.\n",
    "\n",
    "df = pd.DataFrame({'score': [10, 20, 30, 40]})\n",
    "bonus = np.array([5])  # scalar as array\n",
    "\n",
    "df['score_with_bonus'] = df['score'] + bonus\n",
    "print(df)\n"
   ]
  },
  {
   "cell_type": "code",
   "execution_count": 111,
   "id": "19019157-ee24-499d-b769-5b1d6588f7e3",
   "metadata": {},
   "outputs": [
    {
     "name": "stdout",
     "output_type": "stream",
     "text": [
      "   base  tax  total\n",
      "0   100   10    110\n",
      "1   150   15    165\n",
      "2   200   20    220\n"
     ]
    }
   ],
   "source": [
    "# Q5. Create new column from multiple columns using NumPy vectorization.\n",
    "\n",
    "df = pd.DataFrame({\n",
    "    'base': [100, 150, 200],\n",
    "    'tax': [10, 15, 20]\n",
    "})\n",
    "\n",
    "df['total'] = np.array(df['base']) + np.array(df['tax'])\n",
    "print(df)\n"
   ]
  },
  {
   "cell_type": "code",
   "execution_count": 112,
   "id": "e3394444-7266-497b-9074-e023daaac3d0",
   "metadata": {},
   "outputs": [
    {
     "name": "stdout",
     "output_type": "stream",
     "text": [
      "      A    B     C\n",
      "0 -20.0  0.0  20.0\n",
      "1 -20.0  0.0  20.0\n"
     ]
    }
   ],
   "source": [
    "\n",
    "#Q6. Subtract row mean from each element using broadcasting.\n",
    "df = pd.DataFrame({\n",
    "    'A': [10, 20],\n",
    "    'B': [30, 40],\n",
    "    'C': [50, 60]\n",
    "})\n",
    "\n",
    "row_means = df.mean(axis=1).values.reshape(-1, 1)\n",
    "result = df - row_means\n",
    "print(result)\n"
   ]
  },
  {
   "cell_type": "code",
   "execution_count": 115,
   "id": "3e060aec-b558-4381-885a-9d98221ccfff",
   "metadata": {},
   "outputs": [
    {
     "name": "stdout",
     "output_type": "stream",
     "text": [
      "     x    y\n",
      "0  1.0  2.0\n"
     ]
    }
   ],
   "source": [
    "# *7. Linear Algebra with NumPy*\n",
    "\n",
    "# Q7. Solve a linear system of equations and store in DataFrame.\n",
    "\n",
    "\n",
    "#2x + 3y = 8  \n",
    "#x + 2y = 5\n",
    "\n",
    "A = np.array([[2, 3], [1, 2]])\n",
    "B = np.array([8, 5])\n",
    "\n",
    "solution = np.linalg.solve(A, B)\n",
    "df = pd.DataFrame([solution], columns=['x', 'y'])\n",
    "print(df)\n",
    "\n"
   ]
  },
  {
   "cell_type": "code",
   "execution_count": 116,
   "id": "e6ecaef6-696e-43ed-bc0d-8dcb250e5a54",
   "metadata": {},
   "outputs": [
    {
     "name": "stdout",
     "output_type": "stream",
     "text": [
      "Dot Product: 32\n"
     ]
    }
   ],
   "source": [
    "\n",
    "# Q8. Dot product of two DataFrame columns.\n",
    "\n",
    "df = pd.DataFrame({\n",
    "    'x': [1, 2, 3],\n",
    "    'y': [4, 5, 6]\n",
    "})\n",
    "\n",
    "dot = np.dot(df['x'], df['y'])\n",
    "print(\"Dot Product:\", dot)"
   ]
  },
  {
   "cell_type": "code",
   "execution_count": 117,
   "id": "1faf4161-2b84-48ee-a1ac-a764bd7e6130",
   "metadata": {},
   "outputs": [
    {
     "name": "stdout",
     "output_type": "stream",
     "text": [
      "    0   1\n",
      "0  19  22\n",
      "1  43  50\n"
     ]
    }
   ],
   "source": [
    "# Q9. Matrix multiplication of two DataFrames.\n",
    "\n",
    "df1 = pd.DataFrame([[1, 2], [3, 4]])\n",
    "df2 = pd.DataFrame([[5, 6], [7, 8]])\n",
    "\n",
    "product = np.dot(df1, df2)\n",
    "result_df = pd.DataFrame(product)\n",
    "print(result_df)"
   ]
  },
  {
   "cell_type": "code",
   "execution_count": null,
   "id": "b096805c-b53c-4ed4-a917-8475b2b005f5",
   "metadata": {},
   "outputs": [],
   "source": []
  }
 ],
 "metadata": {
  "kernelspec": {
   "display_name": "Python 3 (ipykernel)",
   "language": "python",
   "name": "python3"
  },
  "language_info": {
   "codemirror_mode": {
    "name": "ipython",
    "version": 3
   },
   "file_extension": ".py",
   "mimetype": "text/x-python",
   "name": "python",
   "nbconvert_exporter": "python",
   "pygments_lexer": "ipython3",
   "version": "3.12.7"
  }
 },
 "nbformat": 4,
 "nbformat_minor": 5
}
